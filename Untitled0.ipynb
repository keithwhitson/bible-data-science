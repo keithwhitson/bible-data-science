{
 "metadata": {
  "name": "",
  "signature": "sha256:e52a223b61624df958d288853ad478defcd4c2accb0cc2d103e94dcef84cd2eb"
 },
 "nbformat": 3,
 "nbformat_minor": 0,
 "worksheets": [
  {
   "cells": [
    {
     "cell_type": "markdown",
     "metadata": {},
     "source": [
      "##Die Integration einer Variante innerhalb einer Kategorie f\u00fchrt automatisch zu einem Uplift der \u00d6-Rate."
     ]
    },
    {
     "cell_type": "code",
     "collapsed": false,
     "input": [
      "import pandas as pd\n",
      "from pandas import DataFrame\n",
      "import statsmodels.api as sm\n",
      "import pylab as pl\n",
      "AuswertungExcel = pd.read_excel('Auswertung.xlsx')\n",
      "import numpy as np"
     ],
     "language": "python",
     "metadata": {},
     "outputs": [],
     "prompt_number": 196
    },
    {
     "cell_type": "code",
     "collapsed": false,
     "input": [
      "AuswertungExcel.columns"
     ],
     "language": "python",
     "metadata": {},
     "outputs": [
      {
       "metadata": {},
       "output_type": "pyout",
       "prompt_number": 197,
       "text": [
        "Index([u'overMedian', u'Oeffnungsrate', u'Betreff', u'Kategorie', u'incentive', u'highlight', u'partner', u'satzzeichen', u'anrede', u'Kategoriensumme', u'Kampagne', u'Datum', u'Partner_dm', u'Partner_ebay', u'Partner_Philips', u'Partner_WMF', u'Partner_a.t.u', u'Partner_aral', u'Partner_asstel', u'Partner_blume2000.de', u'Partner_c&a', u'Partner_dehner', u'Partner_expedia', u'Partner_express', u'Partner_galeria', u'Partner_hvb', u'Partner_itunes', u'Partner_linda', u'Partner_mexx', u'Partner_mydays', u'Partner_opel', u'Partner_quelle', u'Partner_real', u'Partner_rewe', u'Partner_sportarena.de', u'Partner_tchibo', u'Partner_telekom', u'Partner_yello', u'Partner_zalando', u'Satzzeiche_!', u'Satzzeiche_.', u'Satzzeiche_?', u'Anrede_anrede', u'Anrede_title', u'Angebot', u'Bestpreisgarantie', u'Exklusiv', u'Geschenk', u'Gewinn', u'Gratis', u'Highlight', u'Jetzt', u'Nur', u'Pr\u00e4mie', u'Punktestand', u'Rabatt', u'Reduziert', u'Sale', u'Schnell', u'Sichern', u'Sparen', u'Wichtig', u'WSV', u'W\u00fcnsche', u'Special', u'Incentivierung_%', u'Incentives_200 \u00b0p f\u00fcr sie geschenkt', u'Incentives_200 \u00b0p geschenkt', u'Incentivierung_doppelt punkten', u'Incentives_doppelte punkte', u'Incentives_extra \u00b0p', u'Incentivierung_extra-punkte', u'Incentivierung_fach', u'Incentives_punkte', u'Incentives_punkte-gutschein', u'Incentives_\u00b0p'], dtype='object')"
       ]
      }
     ],
     "prompt_number": 197
    },
    {
     "cell_type": "code",
     "collapsed": false,
     "input": [
      "#Partner\n",
      "PartnerDataFrame = DataFrame()"
     ],
     "language": "python",
     "metadata": {},
     "outputs": [],
     "prompt_number": 198
    },
    {
     "cell_type": "code",
     "collapsed": false,
     "input": [
      "PartnerDataFrame[[u'overMedian', u'Partner_ebay', u'Partner_Philips', u'Partner_WMF', u'Partner_a.t.u', u'Partner_aral', u'Partner_asstel', u'Partner_blume2000.de', u'Partner_c&a', u'Partner_dehner', u'Partner_expedia', u'Partner_express', u'Partner_galeria', u'Partner_hvb', u'Partner_itunes', u'Partner_linda', u'Partner_mexx', u'Partner_mydays', u'Partner_opel', u'Partner_quelle', u'Partner_real', u'Partner_rewe', u'Partner_sportarena.de', u'Partner_tchibo', u'Partner_telekom', u'Partner_yello', u'Partner_zalando', u'Satzzeiche_!', u'Satzzeiche_.', u'Satzzeiche_?']]=AuswertungExcel[[u'overMedian', u'Partner_ebay', u'Partner_Philips', u'Partner_WMF', u'Partner_a.t.u', u'Partner_aral', u'Partner_asstel', u'Partner_blume2000.de', u'Partner_c&a', u'Partner_dehner', u'Partner_expedia', u'Partner_express', u'Partner_galeria', u'Partner_hvb', u'Partner_itunes', u'Partner_linda', u'Partner_mexx', u'Partner_mydays', u'Partner_opel', u'Partner_quelle', u'Partner_real', u'Partner_rewe', u'Partner_sportarena.de', u'Partner_tchibo', u'Partner_telekom', u'Partner_yello', u'Partner_zalando', u'Satzzeiche_!', u'Satzzeiche_.', u'Satzzeiche_?']]"
     ],
     "language": "python",
     "metadata": {},
     "outputs": [],
     "prompt_number": 199
    },
    {
     "cell_type": "code",
     "collapsed": false,
     "input": [
      "print PartnerDataFrame.std()"
     ],
     "language": "python",
     "metadata": {},
     "outputs": [
      {
       "output_type": "stream",
       "stream": "stdout",
       "text": [
        "overMedian               0.500642\n",
        "Partner_ebay             0.087592\n",
        "Partner_Philips          0.112787\n",
        "Partner_WMF              0.165978\n",
        "Partner_a.t.u            0.087592\n",
        "Partner_aral             0.101011\n",
        "Partner_asstel           0.087592\n",
        "Partner_blume2000.de     0.050702\n",
        "Partner_c&a              0.050702\n",
        "Partner_dehner           0.071611\n",
        "Partner_expedia          0.142107\n",
        "Partner_express          0.087592\n",
        "Partner_galeria          0.173129\n",
        "Partner_hvb              0.050702\n",
        "Partner_itunes           0.071611\n",
        "Partner_linda            0.087592\n",
        "Partner_mexx             0.071611\n",
        "Partner_mydays           0.101011\n",
        "Partner_opel             0.123391\n",
        "Partner_quelle           0.050702\n",
        "Partner_real             0.101011\n",
        "Partner_rewe             0.192793\n",
        "Partner_sportarena.de    0.071611\n",
        "Partner_tchibo           0.050702\n",
        "Partner_telekom          0.179960\n",
        "Partner_yello            0.071611\n",
        "Partner_zalando          0.101011\n",
        "Satzzeiche_!             0.460294\n",
        "Satzzeiche_.             0.050702\n",
        "Satzzeiche_?             0.133104\n",
        "dtype: float64\n"
       ]
      }
     ],
     "prompt_number": 200
    },
    {
     "cell_type": "code",
     "collapsed": false,
     "input": [
      "X_Kategorien  = PartnerDataFrame[[u'Partner_ebay', u'Partner_WMF', u'Partner_a.t.u', u'Partner_aral', u'Partner_asstel', u'Partner_blume2000.de', u'Partner_c&a', u'Partner_dehner', u'Partner_expedia', u'Partner_express', u'Partner_galeria', u'Partner_hvb', u'Partner_itunes', u'Partner_linda', u'Partner_mexx', u'Partner_mydays', u'Partner_opel', u'Partner_quelle', u'Partner_real', u'Partner_rewe', u'Partner_sportarena.de', u'Partner_tchibo', u'Partner_telekom', u'Partner_yello', u'Partner_zalando',  u'Satzzeiche_?']]\n",
      "X_Kategorien = sm.add_constant(X_Kategorien)"
     ],
     "language": "python",
     "metadata": {},
     "outputs": [],
     "prompt_number": 207
    },
    {
     "cell_type": "code",
     "collapsed": false,
     "input": [
      "Y_Overmedian = PartnerDataFrame['overMedian']"
     ],
     "language": "python",
     "metadata": {},
     "outputs": [],
     "prompt_number": 208
    },
    {
     "cell_type": "code",
     "collapsed": false,
     "input": [
      "#X_Kategorien"
     ],
     "language": "python",
     "metadata": {},
     "outputs": [],
     "prompt_number": 209
    },
    {
     "cell_type": "code",
     "collapsed": false,
     "input": [
      "X_Kategorien_Train = X_Kategorien\n",
      "Y_Overmedian_Train = Y_Overmedian"
     ],
     "language": "python",
     "metadata": {},
     "outputs": [],
     "prompt_number": 210
    },
    {
     "cell_type": "code",
     "collapsed": false,
     "input": [
      "logit = sm.Logit(Y_Overmedian_Train,X_Kategorien_Train)"
     ],
     "language": "python",
     "metadata": {},
     "outputs": [],
     "prompt_number": 211
    },
    {
     "cell_type": "code",
     "collapsed": false,
     "input": [
      "result = logit.fit()"
     ],
     "language": "python",
     "metadata": {},
     "outputs": [
      {
       "output_type": "stream",
       "stream": "stdout",
       "text": [
        "Warning: Maximum number of iterations has been exceeded.\n",
        "         Current function value: 0.578713\n",
        "         Iterations: 35\n"
       ]
      },
      {
       "output_type": "stream",
       "stream": "stderr",
       "text": [
        "C:\\winpython\\WinPython-64bit-2.7.9.3\\python-2.7.9.amd64\\lib\\site-packages\\statsmodels\\base\\model.py:466: ConvergenceWarning: Maximum Likelihood optimization failed to converge. Check mle_retvals\n",
        "  \"Check mle_retvals\", ConvergenceWarning)\n"
       ]
      }
     ],
     "prompt_number": 212
    },
    {
     "cell_type": "code",
     "collapsed": false,
     "input": [
      "result.summary()"
     ],
     "language": "python",
     "metadata": {},
     "outputs": [
      {
       "html": [
        "<table class=\"simpletable\">\n",
        "<caption>Logit Regression Results</caption>\n",
        "<tr>\n",
        "  <th>Dep. Variable:</th>    <td>overMedian</td>    <th>  No. Observations:  </th>  <td>   389</td>  \n",
        "</tr>\n",
        "<tr>\n",
        "  <th>Model:</th>               <td>Logit</td>      <th>  Df Residuals:      </th>  <td>   362</td>  \n",
        "</tr>\n",
        "<tr>\n",
        "  <th>Method:</th>               <td>MLE</td>       <th>  Df Model:          </th>  <td>    26</td>  \n",
        "</tr>\n",
        "<tr>\n",
        "  <th>Date:</th>          <td>Fri, 22 May 2015</td> <th>  Pseudo R-squ.:     </th>  <td>0.1651</td>  \n",
        "</tr>\n",
        "<tr>\n",
        "  <th>Time:</th>              <td>11:00:02</td>     <th>  Log-Likelihood:    </th> <td> -225.12</td> \n",
        "</tr>\n",
        "<tr>\n",
        "  <th>converged:</th>           <td>False</td>      <th>  LL-Null:           </th> <td> -269.63</td> \n",
        "</tr>\n",
        "<tr>\n",
        "  <th> </th>                      <td> </td>        <th>  LLR p-value:       </th> <td>7.971e-09</td>\n",
        "</tr>\n",
        "</table>\n",
        "<table class=\"simpletable\">\n",
        "<tr>\n",
        "            <td></td>               <th>coef</th>     <th>std err</th>      <th>z</th>      <th>P>|z|</th> <th>[95.0% Conf. Int.]</th> \n",
        "</tr>\n",
        "<tr>\n",
        "  <th>const</th>                 <td>    0.0509</td> <td>    0.121</td> <td>    0.422</td> <td> 0.673</td> <td>   -0.186     0.287</td>\n",
        "</tr>\n",
        "<tr>\n",
        "  <th>Partner_ebay</th>          <td>  -15.5223</td> <td> 1618.304</td> <td>   -0.010</td> <td> 0.992</td> <td>-3187.340  3156.295</td>\n",
        "</tr>\n",
        "<tr>\n",
        "  <th>Partner_WMF</th>           <td>    1.0477</td> <td>    0.825</td> <td>    1.269</td> <td> 0.204</td> <td>   -0.570     2.665</td>\n",
        "</tr>\n",
        "<tr>\n",
        "  <th>Partner_a.t.u</th>         <td>   -0.7441</td> <td>    1.231</td> <td>   -0.605</td> <td> 0.545</td> <td>   -3.156     1.668</td>\n",
        "</tr>\n",
        "<tr>\n",
        "  <th>Partner_aral</th>          <td>  -21.4741</td> <td> 2.24e+04</td> <td>   -0.001</td> <td> 0.999</td> <td> -4.4e+04   4.4e+04</td>\n",
        "</tr>\n",
        "<tr>\n",
        "  <th>Partner_asstel</th>        <td>   -0.7441</td> <td>    1.231</td> <td>   -0.605</td> <td> 0.545</td> <td>   -3.156     1.668</td>\n",
        "</tr>\n",
        "<tr>\n",
        "  <th>Partner_blume2000.de</th>  <td>    8.7827</td> <td>   82.846</td> <td>    0.106</td> <td> 0.916</td> <td> -153.592   171.157</td>\n",
        "</tr>\n",
        "<tr>\n",
        "  <th>Partner_c&a</th>           <td>   -8.9072</td> <td>   83.789</td> <td>   -0.106</td> <td> 0.915</td> <td> -173.130   155.316</td>\n",
        "</tr>\n",
        "<tr>\n",
        "  <th>Partner_dehner</th>        <td>   28.4660</td> <td>  1.1e+06</td> <td> 2.59e-05</td> <td> 1.000</td> <td>-2.16e+06  2.16e+06</td>\n",
        "</tr>\n",
        "<tr>\n",
        "  <th>Partner_expedia</th>       <td>   -0.5617</td> <td>    0.740</td> <td>   -0.759</td> <td> 0.448</td> <td>   -2.013     0.889</td>\n",
        "</tr>\n",
        "<tr>\n",
        "  <th>Partner_express</th>       <td>  -19.4415</td> <td> 9376.626</td> <td>   -0.002</td> <td> 0.998</td> <td>-1.84e+04  1.84e+04</td>\n",
        "</tr>\n",
        "<tr>\n",
        "  <th>Partner_galeria</th>       <td>   10.2870</td> <td>   50.732</td> <td>    0.203</td> <td> 0.839</td> <td>  -89.147   109.721</td>\n",
        "</tr>\n",
        "<tr>\n",
        "  <th>Partner_hvb</th>           <td>   -8.9072</td> <td>   83.789</td> <td>   -0.106</td> <td> 0.915</td> <td> -173.130   155.316</td>\n",
        "</tr>\n",
        "<tr>\n",
        "  <th>Partner_itunes</th>        <td>  -28.5678</td> <td>  1.1e+06</td> <td>-2.59e-05</td> <td> 1.000</td> <td>-2.16e+06  2.16e+06</td>\n",
        "</tr>\n",
        "<tr>\n",
        "  <th>Partner_linda</th>         <td>  -19.4415</td> <td> 9376.626</td> <td>   -0.002</td> <td> 0.998</td> <td>-1.84e+04  1.84e+04</td>\n",
        "</tr>\n",
        "<tr>\n",
        "  <th>Partner_mexx</th>          <td>  -28.5678</td> <td>  1.1e+06</td> <td>-2.59e-05</td> <td> 1.000</td> <td>-2.16e+06  2.16e+06</td>\n",
        "</tr>\n",
        "<tr>\n",
        "  <th>Partner_mydays</th>        <td>   -0.0509</td> <td>    1.007</td> <td>   -0.051</td> <td> 0.960</td> <td>   -2.025     1.923</td>\n",
        "</tr>\n",
        "<tr>\n",
        "  <th>Partner_opel</th>          <td>  -22.8425</td> <td> 3.63e+04</td> <td>   -0.001</td> <td> 0.999</td> <td>-7.12e+04  7.11e+04</td>\n",
        "</tr>\n",
        "<tr>\n",
        "  <th>Partner_quelle</th>        <td>   -8.9072</td> <td>   83.789</td> <td>   -0.106</td> <td> 0.915</td> <td> -173.130   155.316</td>\n",
        "</tr>\n",
        "<tr>\n",
        "  <th>Partner_real</th>          <td>  -21.4741</td> <td> 2.24e+04</td> <td>   -0.001</td> <td> 0.999</td> <td> -4.4e+04   4.4e+04</td>\n",
        "</tr>\n",
        "<tr>\n",
        "  <th>Partner_rewe</th>          <td>    0.6422</td> <td>    0.561</td> <td>    1.145</td> <td> 0.252</td> <td>   -0.457     1.741</td>\n",
        "</tr>\n",
        "<tr>\n",
        "  <th>Partner_sportarena.de</th> <td>   28.4660</td> <td>  1.1e+06</td> <td> 2.59e-05</td> <td> 1.000</td> <td>-2.16e+06  2.16e+06</td>\n",
        "</tr>\n",
        "<tr>\n",
        "  <th>Partner_tchibo</th>        <td>   42.4563</td> <td> 7.24e+05</td> <td> 5.86e-05</td> <td> 1.000</td> <td>-1.42e+06  1.42e+06</td>\n",
        "</tr>\n",
        "<tr>\n",
        "  <th>Partner_telekom</th>       <td>   -0.5209</td> <td>    0.583</td> <td>   -0.894</td> <td> 0.371</td> <td>   -1.663     0.621</td>\n",
        "</tr>\n",
        "<tr>\n",
        "  <th>Partner_yello</th>         <td>  -28.5678</td> <td>  1.1e+06</td> <td>-2.59e-05</td> <td> 1.000</td> <td>-2.16e+06  2.16e+06</td>\n",
        "</tr>\n",
        "<tr>\n",
        "  <th>Partner_zalando</th>       <td>  -35.7137</td> <td>    2e+07</td> <td>-1.79e-06</td> <td> 1.000</td> <td>-3.92e+07  3.92e+07</td>\n",
        "</tr>\n",
        "<tr>\n",
        "  <th>Satzzeiche_?</th>          <td>   19.6468</td> <td> 7514.486</td> <td>    0.003</td> <td> 0.998</td> <td>-1.47e+04  1.47e+04</td>\n",
        "</tr>\n",
        "</table>"
       ],
       "metadata": {},
       "output_type": "pyout",
       "prompt_number": 213,
       "text": [
        "<class 'statsmodels.iolib.summary.Summary'>\n",
        "\"\"\"\n",
        "                           Logit Regression Results                           \n",
        "==============================================================================\n",
        "Dep. Variable:             overMedian   No. Observations:                  389\n",
        "Model:                          Logit   Df Residuals:                      362\n",
        "Method:                           MLE   Df Model:                           26\n",
        "Date:                Fri, 22 May 2015   Pseudo R-squ.:                  0.1651\n",
        "Time:                        11:00:02   Log-Likelihood:                -225.12\n",
        "converged:                      False   LL-Null:                       -269.63\n",
        "                                        LLR p-value:                 7.971e-09\n",
        "=========================================================================================\n",
        "                            coef    std err          z      P>|z|      [95.0% Conf. Int.]\n",
        "-----------------------------------------------------------------------------------------\n",
        "const                     0.0509      0.121      0.422      0.673        -0.186     0.287\n",
        "Partner_ebay            -15.5223   1618.304     -0.010      0.992     -3187.340  3156.295\n",
        "Partner_WMF               1.0477      0.825      1.269      0.204        -0.570     2.665\n",
        "Partner_a.t.u            -0.7441      1.231     -0.605      0.545        -3.156     1.668\n",
        "Partner_aral            -21.4741   2.24e+04     -0.001      0.999      -4.4e+04   4.4e+04\n",
        "Partner_asstel           -0.7441      1.231     -0.605      0.545        -3.156     1.668\n",
        "Partner_blume2000.de      8.7827     82.846      0.106      0.916      -153.592   171.157\n",
        "Partner_c&a              -8.9072     83.789     -0.106      0.915      -173.130   155.316\n",
        "Partner_dehner           28.4660    1.1e+06   2.59e-05      1.000     -2.16e+06  2.16e+06\n",
        "Partner_expedia          -0.5617      0.740     -0.759      0.448        -2.013     0.889\n",
        "Partner_express         -19.4415   9376.626     -0.002      0.998     -1.84e+04  1.84e+04\n",
        "Partner_galeria          10.2870     50.732      0.203      0.839       -89.147   109.721\n",
        "Partner_hvb              -8.9072     83.789     -0.106      0.915      -173.130   155.316\n",
        "Partner_itunes          -28.5678    1.1e+06  -2.59e-05      1.000     -2.16e+06  2.16e+06\n",
        "Partner_linda           -19.4415   9376.626     -0.002      0.998     -1.84e+04  1.84e+04\n",
        "Partner_mexx            -28.5678    1.1e+06  -2.59e-05      1.000     -2.16e+06  2.16e+06\n",
        "Partner_mydays           -0.0509      1.007     -0.051      0.960        -2.025     1.923\n",
        "Partner_opel            -22.8425   3.63e+04     -0.001      0.999     -7.12e+04  7.11e+04\n",
        "Partner_quelle           -8.9072     83.789     -0.106      0.915      -173.130   155.316\n",
        "Partner_real            -21.4741   2.24e+04     -0.001      0.999      -4.4e+04   4.4e+04\n",
        "Partner_rewe              0.6422      0.561      1.145      0.252        -0.457     1.741\n",
        "Partner_sportarena.de    28.4660    1.1e+06   2.59e-05      1.000     -2.16e+06  2.16e+06\n",
        "Partner_tchibo           42.4563   7.24e+05   5.86e-05      1.000     -1.42e+06  1.42e+06\n",
        "Partner_telekom          -0.5209      0.583     -0.894      0.371        -1.663     0.621\n",
        "Partner_yello           -28.5678    1.1e+06  -2.59e-05      1.000     -2.16e+06  2.16e+06\n",
        "Partner_zalando         -35.7137      2e+07  -1.79e-06      1.000     -3.92e+07  3.92e+07\n",
        "Satzzeiche_?             19.6468   7514.486      0.003      0.998     -1.47e+04  1.47e+04\n",
        "=========================================================================================\n",
        "\"\"\""
       ]
      }
     ],
     "prompt_number": 213
    },
    {
     "cell_type": "code",
     "collapsed": false,
     "input": [],
     "language": "python",
     "metadata": {},
     "outputs": []
    },
    {
     "cell_type": "code",
     "collapsed": false,
     "input": [],
     "language": "python",
     "metadata": {},
     "outputs": []
    },
    {
     "cell_type": "code",
     "collapsed": false,
     "input": [],
     "language": "python",
     "metadata": {},
     "outputs": []
    }
   ],
   "metadata": {}
  }
 ]
}