{
 "metadata": {
  "name": "",
  "signature": "sha256:5f03c0b56a50ee9c5ad5b0c478d0884ce0f4dd30ae9ace05b9f6b972dc847eab"
 },
 "nbformat": 3,
 "nbformat_minor": 0,
 "worksheets": [
  {
   "cells": [
    {
     "cell_type": "code",
     "collapsed": false,
     "input": [
      "import statsmodels.formula.api as smf\n",
      "import numpy as np\n",
      "import pandas as pd\n",
      "import matplotlib.pyplot as plt\n",
      "final=pd.read_excel('final_version_patrick.xlsx')"
     ],
     "language": "python",
     "metadata": {},
     "outputs": [],
     "prompt_number": 13
    },
    {
     "cell_type": "code",
     "collapsed": false,
     "input": [
      "Kategorien_IP=final[final['Kategorie']=='IP'].head()"
     ],
     "language": "python",
     "metadata": {},
     "outputs": [],
     "prompt_number": 14
    },
    {
     "cell_type": "code",
     "collapsed": false,
     "input": [
      "Kategorien_IP_Group = final[[u'ifIncentive',u'ifPartner',u'OeffnungsrateClean']]\n",
      "Kategorien_IP_Group.head()"
     ],
     "language": "python",
     "metadata": {},
     "outputs": [
      {
       "html": [
        "<div style=\"max-height:1000px;max-width:1500px;overflow:auto;\">\n",
        "<table border=\"1\" class=\"dataframe\">\n",
        "  <thead>\n",
        "    <tr style=\"text-align: right;\">\n",
        "      <th></th>\n",
        "      <th>ifIncentive</th>\n",
        "      <th>ifPartner</th>\n",
        "      <th>OeffnungsrateClean</th>\n",
        "    </tr>\n",
        "  </thead>\n",
        "  <tbody>\n",
        "    <tr>\n",
        "      <th>0</th>\n",
        "      <td> 0</td>\n",
        "      <td> 1</td>\n",
        "      <td> 0.307655</td>\n",
        "    </tr>\n",
        "    <tr>\n",
        "      <th>1</th>\n",
        "      <td> 1</td>\n",
        "      <td> 1</td>\n",
        "      <td> 0.301537</td>\n",
        "    </tr>\n",
        "    <tr>\n",
        "      <th>2</th>\n",
        "      <td> 1</td>\n",
        "      <td> 0</td>\n",
        "      <td> 0.248967</td>\n",
        "    </tr>\n",
        "    <tr>\n",
        "      <th>3</th>\n",
        "      <td> 1</td>\n",
        "      <td> 0</td>\n",
        "      <td> 0.229486</td>\n",
        "    </tr>\n",
        "    <tr>\n",
        "      <th>4</th>\n",
        "      <td> 1</td>\n",
        "      <td> 0</td>\n",
        "      <td> 0.212406</td>\n",
        "    </tr>\n",
        "  </tbody>\n",
        "</table>\n",
        "</div>"
       ],
       "metadata": {},
       "output_type": "pyout",
       "prompt_number": 18,
       "text": [
        "   ifIncentive  ifPartner  OeffnungsrateClean\n",
        "0            0          1            0.307655\n",
        "1            1          1            0.301537\n",
        "2            1          0            0.248967\n",
        "3            1          0            0.229486\n",
        "4            1          0            0.212406"
       ]
      }
     ],
     "prompt_number": 18
    },
    {
     "cell_type": "code",
     "collapsed": false,
     "input": [
      "mod = smf.ols(formula='OeffnungsrateClean ~ ifPartner + ifIncentive',data=Kategorien_IP_Group)\n",
      "res = mod.fit()\n",
      "print res.summary()"
     ],
     "language": "python",
     "metadata": {},
     "outputs": [
      {
       "output_type": "stream",
       "stream": "stdout",
       "text": [
        "                            OLS Regression Results                            \n",
        "==============================================================================\n",
        "Dep. Variable:     OeffnungsrateClean   R-squared:                       0.034\n",
        "Model:                            OLS   Adj. R-squared:                  0.029\n",
        "Method:                 Least Squares   F-statistic:                     6.821\n",
        "Date:                Mon, 01 Jun 2015   Prob (F-statistic):            0.00123\n",
        "Time:                        15:22:24   Log-Likelihood:                 467.61\n",
        "No. Observations:                 389   AIC:                            -929.2\n",
        "Df Residuals:                     386   BIC:                            -917.3\n",
        "Df Model:                           2                                         \n",
        "Covariance Type:            nonrobust                                         \n",
        "===============================================================================\n",
        "                  coef    std err          t      P>|t|      [95.0% Conf. Int.]\n",
        "-------------------------------------------------------------------------------\n",
        "Intercept       0.2734      0.008     35.870      0.000         0.258     0.288\n",
        "ifPartner       0.0104      0.008      1.366      0.173        -0.005     0.025\n",
        "ifIncentive    -0.0289      0.008     -3.469      0.001        -0.045    -0.013\n",
        "==============================================================================\n",
        "Omnibus:                      174.594   Durbin-Watson:                   2.194\n",
        "Prob(Omnibus):                  0.000   Jarque-Bera (JB):             1612.884\n",
        "Skew:                           1.656   Prob(JB):                         0.00\n",
        "Kurtosis:                      12.410   Cond. No.                         3.88\n",
        "==============================================================================\n",
        "\n",
        "Warnings:\n",
        "[1] Standard Errors assume that the covariance matrix of the errors is correctly specified.\n"
       ]
      }
     ],
     "prompt_number": 19
    },
    {
     "cell_type": "code",
     "collapsed": false,
     "input": [],
     "language": "python",
     "metadata": {},
     "outputs": []
    }
   ],
   "metadata": {}
  }
 ]
}