{
 "cells": [
  {
   "cell_type": "code",
   "execution_count": 2,
   "metadata": {
    "collapsed": false
   },
   "outputs": [],
   "source": [
    "import pandas as pd\n",
    "GenesisDF = pd.read_excel(\"GenesisDF.xlsx\")\n",
    "from spacy.en import English\n",
    "nlp = English()"
   ]
  },
  {
   "cell_type": "code",
   "execution_count": 3,
   "metadata": {
    "collapsed": true
   },
   "outputs": [],
   "source": [
    "del GenesisDF['link']\n",
    "del GenesisDF['Unnamed: 0']"
   ]
  },
  {
   "cell_type": "code",
   "execution_count": 4,
   "metadata": {
    "collapsed": false
   },
   "outputs": [],
   "source": [
    "GenesisDF['NamedEntiryRecognition']=GenesisDF['passageText'].apply(lambda x: nlp(x).ents)"
   ]
  },
  {
   "cell_type": "code",
   "execution_count": 5,
   "metadata": {
    "collapsed": false
   },
   "outputs": [
    {
     "data": {
      "text/html": [
       "<div>\n",
       "<table border=\"1\" class=\"dataframe\">\n",
       "  <thead>\n",
       "    <tr style=\"text-align: right;\">\n",
       "      <th></th>\n",
       "      <th>passage</th>\n",
       "      <th>passageText</th>\n",
       "      <th>NamedEntiryRecognition</th>\n",
       "    </tr>\n",
       "  </thead>\n",
       "  <tbody>\n",
       "    <tr>\n",
       "      <th>0</th>\n",
       "      <td>Genesis1:1</td>\n",
       "      <td>b'In the beginning God created the heaven and ...</td>\n",
       "      <td>()</td>\n",
       "    </tr>\n",
       "    <tr>\n",
       "      <th>1</th>\n",
       "      <td>Genesis1:2</td>\n",
       "      <td>b'And the earth was without form, and void; an...</td>\n",
       "      <td>()</td>\n",
       "    </tr>\n",
       "    <tr>\n",
       "      <th>2</th>\n",
       "      <td>Genesis1:3</td>\n",
       "      <td>b'And God said, Let there be light: and there ...</td>\n",
       "      <td>()</td>\n",
       "    </tr>\n",
       "    <tr>\n",
       "      <th>3</th>\n",
       "      <td>Genesis1:4</td>\n",
       "      <td>b'And God saw the light, that it was good: and...</td>\n",
       "      <td>()</td>\n",
       "    </tr>\n",
       "    <tr>\n",
       "      <th>4</th>\n",
       "      <td>Genesis1:5</td>\n",
       "      <td>b'And God called the light Day, and the darkne...</td>\n",
       "      <td>((Night), (first ))</td>\n",
       "    </tr>\n",
       "  </tbody>\n",
       "</table>\n",
       "</div>"
      ],
      "text/plain": [
       "      passage                                        passageText  \\\n",
       "0  Genesis1:1  b'In the beginning God created the heaven and ...   \n",
       "1  Genesis1:2  b'And the earth was without form, and void; an...   \n",
       "2  Genesis1:3  b'And God said, Let there be light: and there ...   \n",
       "3  Genesis1:4  b'And God saw the light, that it was good: and...   \n",
       "4  Genesis1:5  b'And God called the light Day, and the darkne...   \n",
       "\n",
       "  NamedEntiryRecognition  \n",
       "0                     ()  \n",
       "1                     ()  \n",
       "2                     ()  \n",
       "3                     ()  \n",
       "4    ((Night), (first ))  "
      ]
     },
     "execution_count": 5,
     "metadata": {},
     "output_type": "execute_result"
    }
   ],
   "source": [
    "GenesisDF.head()"
   ]
  },
  {
   "cell_type": "code",
   "execution_count": 6,
   "metadata": {
    "collapsed": true
   },
   "outputs": [],
   "source": [
    "def getNounChunks(x):\n",
    "    chunksList = []\n",
    "    for chunk in nlp(x).noun_chunks:\n",
    "        chunksList.append(chunk)\n",
    "    return chunksList"
   ]
  },
  {
   "cell_type": "code",
   "execution_count": 7,
   "metadata": {
    "collapsed": false
   },
   "outputs": [],
   "source": [
    "GenesisDF['NounChunks'] = GenesisDF['passageText'].apply(lambda x: getNounChunks(x))"
   ]
  },
  {
   "cell_type": "code",
   "execution_count": 8,
   "metadata": {
    "collapsed": false
   },
   "outputs": [
    {
     "data": {
      "text/html": [
       "<div>\n",
       "<table border=\"1\" class=\"dataframe\">\n",
       "  <thead>\n",
       "    <tr style=\"text-align: right;\">\n",
       "      <th></th>\n",
       "      <th>passage</th>\n",
       "      <th>passageText</th>\n",
       "      <th>NamedEntiryRecognition</th>\n",
       "      <th>NounChunks</th>\n",
       "    </tr>\n",
       "  </thead>\n",
       "  <tbody>\n",
       "    <tr>\n",
       "      <th>0</th>\n",
       "      <td>Genesis1:1</td>\n",
       "      <td>b'In the beginning God created the heaven and ...</td>\n",
       "      <td>()</td>\n",
       "      <td>[(God ), (the , heaven ), (the , earth)]</td>\n",
       "    </tr>\n",
       "    <tr>\n",
       "      <th>1</th>\n",
       "      <td>Genesis1:2</td>\n",
       "      <td>b'And the earth was without form, and void; an...</td>\n",
       "      <td>()</td>\n",
       "      <td>[(the , earth ), (form), (darkness ), (the , f...</td>\n",
       "    </tr>\n",
       "    <tr>\n",
       "      <th>2</th>\n",
       "      <td>Genesis1:3</td>\n",
       "      <td>b'And God said, Let there be light: and there ...</td>\n",
       "      <td>()</td>\n",
       "      <td>[(b'And ), (God ), (light), (light)]</td>\n",
       "    </tr>\n",
       "    <tr>\n",
       "      <th>3</th>\n",
       "      <td>Genesis1:4</td>\n",
       "      <td>b'And God saw the light, that it was good: and...</td>\n",
       "      <td>()</td>\n",
       "      <td>[(God ), (the , light), (it ), (God ), (the , ...</td>\n",
       "    </tr>\n",
       "    <tr>\n",
       "      <th>4</th>\n",
       "      <td>Genesis1:5</td>\n",
       "      <td>b'And God called the light Day, and the darkne...</td>\n",
       "      <td>((Night), (first ))</td>\n",
       "      <td>[(God ), (the , light , Day), (he ), (the , ev...</td>\n",
       "    </tr>\n",
       "    <tr>\n",
       "      <th>5</th>\n",
       "      <td>Genesis1:6</td>\n",
       "      <td>b'And God said, Let there be a firmament in th...</td>\n",
       "      <td>()</td>\n",
       "      <td>[(b'And ), (God ), (a , firmament ), (the , mi...</td>\n",
       "    </tr>\n",
       "    <tr>\n",
       "      <th>6</th>\n",
       "      <td>Genesis1:7</td>\n",
       "      <td>b'And God made the firmament, and divided the ...</td>\n",
       "      <td>()</td>\n",
       "      <td>[(God ), (the , firmament), (the , waters ), (...</td>\n",
       "    </tr>\n",
       "    <tr>\n",
       "      <th>7</th>\n",
       "      <td>Genesis1:8</td>\n",
       "      <td>b'And God called the firmament Heaven. And the...</td>\n",
       "      <td>((second ),)</td>\n",
       "      <td>[(God ), (the , firmament ), (the , evening ),...</td>\n",
       "    </tr>\n",
       "    <tr>\n",
       "      <th>8</th>\n",
       "      <td>Genesis1:9</td>\n",
       "      <td>b'And God said, Let the waters under the heave...</td>\n",
       "      <td>((one ),)</td>\n",
       "      <td>[(b'And ), (God ), (the , waters ), (the , hea...</td>\n",
       "    </tr>\n",
       "    <tr>\n",
       "      <th>9</th>\n",
       "      <td>Genesis1:10</td>\n",
       "      <td>b'And God called the dry land Earth; and the g...</td>\n",
       "      <td>((Earth),)</td>\n",
       "      <td>[(b'And ), (God ), (the , dry , land ), (the ,...</td>\n",
       "    </tr>\n",
       "  </tbody>\n",
       "</table>\n",
       "</div>"
      ],
      "text/plain": [
       "       passage                                        passageText  \\\n",
       "0   Genesis1:1  b'In the beginning God created the heaven and ...   \n",
       "1   Genesis1:2  b'And the earth was without form, and void; an...   \n",
       "2   Genesis1:3  b'And God said, Let there be light: and there ...   \n",
       "3   Genesis1:4  b'And God saw the light, that it was good: and...   \n",
       "4   Genesis1:5  b'And God called the light Day, and the darkne...   \n",
       "5   Genesis1:6  b'And God said, Let there be a firmament in th...   \n",
       "6   Genesis1:7  b'And God made the firmament, and divided the ...   \n",
       "7   Genesis1:8  b'And God called the firmament Heaven. And the...   \n",
       "8   Genesis1:9  b'And God said, Let the waters under the heave...   \n",
       "9  Genesis1:10  b'And God called the dry land Earth; and the g...   \n",
       "\n",
       "  NamedEntiryRecognition                                         NounChunks  \n",
       "0                     ()           [(God ), (the , heaven ), (the , earth)]  \n",
       "1                     ()  [(the , earth ), (form), (darkness ), (the , f...  \n",
       "2                     ()               [(b'And ), (God ), (light), (light)]  \n",
       "3                     ()  [(God ), (the , light), (it ), (God ), (the , ...  \n",
       "4    ((Night), (first ))  [(God ), (the , light , Day), (he ), (the , ev...  \n",
       "5                     ()  [(b'And ), (God ), (a , firmament ), (the , mi...  \n",
       "6                     ()  [(God ), (the , firmament), (the , waters ), (...  \n",
       "7           ((second ),)  [(God ), (the , firmament ), (the , evening ),...  \n",
       "8              ((one ),)  [(b'And ), (God ), (the , waters ), (the , hea...  \n",
       "9             ((Earth),)  [(b'And ), (God ), (the , dry , land ), (the ,...  "
      ]
     },
     "execution_count": 8,
     "metadata": {},
     "output_type": "execute_result"
    }
   ],
   "source": [
    "GenesisDF.head(10)"
   ]
  },
  {
   "cell_type": "code",
   "execution_count": 9,
   "metadata": {
    "collapsed": true
   },
   "outputs": [],
   "source": [
    "def getNSubj(x):\n",
    "    NSubjList = []\n",
    "    doc = nlp(x)\n",
    "    for token in doc:\n",
    "        if token.dep_ == 'nsubj':\n",
    "            NSubjList.append(token)\n",
    "    return NSubjList"
   ]
  },
  {
   "cell_type": "code",
   "execution_count": 10,
   "metadata": {
    "collapsed": true
   },
   "outputs": [],
   "source": [
    "GenesisDF['NSubjs'] = GenesisDF['passageText'].apply(lambda x: getNSubj(x))"
   ]
  },
  {
   "cell_type": "code",
   "execution_count": 11,
   "metadata": {
    "collapsed": false
   },
   "outputs": [
    {
     "data": {
      "text/html": [
       "<div>\n",
       "<table border=\"1\" class=\"dataframe\">\n",
       "  <thead>\n",
       "    <tr style=\"text-align: right;\">\n",
       "      <th></th>\n",
       "      <th>passage</th>\n",
       "      <th>passageText</th>\n",
       "      <th>NamedEntiryRecognition</th>\n",
       "      <th>NounChunks</th>\n",
       "      <th>NSubjs</th>\n",
       "    </tr>\n",
       "  </thead>\n",
       "  <tbody>\n",
       "    <tr>\n",
       "      <th>0</th>\n",
       "      <td>Genesis1:1</td>\n",
       "      <td>b'In the beginning God created the heaven and ...</td>\n",
       "      <td>()</td>\n",
       "      <td>[(God ), (the , heaven ), (the , earth)]</td>\n",
       "      <td>[God ]</td>\n",
       "    </tr>\n",
       "    <tr>\n",
       "      <th>1</th>\n",
       "      <td>Genesis1:2</td>\n",
       "      <td>b'And the earth was without form, and void; an...</td>\n",
       "      <td>()</td>\n",
       "      <td>[(the , earth ), (form), (darkness ), (the , f...</td>\n",
       "      <td>[earth , darkness , Spirit ]</td>\n",
       "    </tr>\n",
       "    <tr>\n",
       "      <th>2</th>\n",
       "      <td>Genesis1:3</td>\n",
       "      <td>b'And God said, Let there be light: and there ...</td>\n",
       "      <td>()</td>\n",
       "      <td>[(b'And ), (God ), (light), (light)]</td>\n",
       "      <td>[God ]</td>\n",
       "    </tr>\n",
       "    <tr>\n",
       "      <th>3</th>\n",
       "      <td>Genesis1:4</td>\n",
       "      <td>b'And God saw the light, that it was good: and...</td>\n",
       "      <td>()</td>\n",
       "      <td>[(God ), (the , light), (it ), (God ), (the , ...</td>\n",
       "      <td>[b'And , God , it , God ]</td>\n",
       "    </tr>\n",
       "    <tr>\n",
       "      <th>4</th>\n",
       "      <td>Genesis1:5</td>\n",
       "      <td>b'And God called the light Day, and the darkne...</td>\n",
       "      <td>((Night), (first ))</td>\n",
       "      <td>[(God ), (the , light , Day), (he ), (the , ev...</td>\n",
       "      <td>[God , he , evening ]</td>\n",
       "    </tr>\n",
       "    <tr>\n",
       "      <th>5</th>\n",
       "      <td>Genesis1:6</td>\n",
       "      <td>b'And God said, Let there be a firmament in th...</td>\n",
       "      <td>()</td>\n",
       "      <td>[(b'And ), (God ), (a , firmament ), (the , mi...</td>\n",
       "      <td>[God , it ]</td>\n",
       "    </tr>\n",
       "    <tr>\n",
       "      <th>6</th>\n",
       "      <td>Genesis1:7</td>\n",
       "      <td>b'And God made the firmament, and divided the ...</td>\n",
       "      <td>()</td>\n",
       "      <td>[(God ), (the , firmament), (the , waters ), (...</td>\n",
       "      <td>[b'And , God , which , which , it ]</td>\n",
       "    </tr>\n",
       "    <tr>\n",
       "      <th>7</th>\n",
       "      <td>Genesis1:8</td>\n",
       "      <td>b'And God called the firmament Heaven. And the...</td>\n",
       "      <td>((second ),)</td>\n",
       "      <td>[(God ), (the , firmament ), (the , evening ),...</td>\n",
       "      <td>[God , evening ]</td>\n",
       "    </tr>\n",
       "    <tr>\n",
       "      <th>8</th>\n",
       "      <td>Genesis1:9</td>\n",
       "      <td>b'And God said, Let the waters under the heave...</td>\n",
       "      <td>((one ),)</td>\n",
       "      <td>[(b'And ), (God ), (the , waters ), (the , hea...</td>\n",
       "      <td>[God , land , it ]</td>\n",
       "    </tr>\n",
       "    <tr>\n",
       "      <th>9</th>\n",
       "      <td>Genesis1:10</td>\n",
       "      <td>b'And God called the dry land Earth; and the g...</td>\n",
       "      <td>((Earth),)</td>\n",
       "      <td>[(b'And ), (God ), (the , dry , land ), (the ,...</td>\n",
       "      <td>[b'And , God , he , God , it ]</td>\n",
       "    </tr>\n",
       "  </tbody>\n",
       "</table>\n",
       "</div>"
      ],
      "text/plain": [
       "       passage                                        passageText  \\\n",
       "0   Genesis1:1  b'In the beginning God created the heaven and ...   \n",
       "1   Genesis1:2  b'And the earth was without form, and void; an...   \n",
       "2   Genesis1:3  b'And God said, Let there be light: and there ...   \n",
       "3   Genesis1:4  b'And God saw the light, that it was good: and...   \n",
       "4   Genesis1:5  b'And God called the light Day, and the darkne...   \n",
       "5   Genesis1:6  b'And God said, Let there be a firmament in th...   \n",
       "6   Genesis1:7  b'And God made the firmament, and divided the ...   \n",
       "7   Genesis1:8  b'And God called the firmament Heaven. And the...   \n",
       "8   Genesis1:9  b'And God said, Let the waters under the heave...   \n",
       "9  Genesis1:10  b'And God called the dry land Earth; and the g...   \n",
       "\n",
       "  NamedEntiryRecognition                                         NounChunks  \\\n",
       "0                     ()           [(God ), (the , heaven ), (the , earth)]   \n",
       "1                     ()  [(the , earth ), (form), (darkness ), (the , f...   \n",
       "2                     ()               [(b'And ), (God ), (light), (light)]   \n",
       "3                     ()  [(God ), (the , light), (it ), (God ), (the , ...   \n",
       "4    ((Night), (first ))  [(God ), (the , light , Day), (he ), (the , ev...   \n",
       "5                     ()  [(b'And ), (God ), (a , firmament ), (the , mi...   \n",
       "6                     ()  [(God ), (the , firmament), (the , waters ), (...   \n",
       "7           ((second ),)  [(God ), (the , firmament ), (the , evening ),...   \n",
       "8              ((one ),)  [(b'And ), (God ), (the , waters ), (the , hea...   \n",
       "9             ((Earth),)  [(b'And ), (God ), (the , dry , land ), (the ,...   \n",
       "\n",
       "                                NSubjs  \n",
       "0                               [God ]  \n",
       "1         [earth , darkness , Spirit ]  \n",
       "2                               [God ]  \n",
       "3            [b'And , God , it , God ]  \n",
       "4                [God , he , evening ]  \n",
       "5                          [God , it ]  \n",
       "6  [b'And , God , which , which , it ]  \n",
       "7                     [God , evening ]  \n",
       "8                   [God , land , it ]  \n",
       "9       [b'And , God , he , God , it ]  "
      ]
     },
     "execution_count": 11,
     "metadata": {},
     "output_type": "execute_result"
    }
   ],
   "source": [
    "GenesisDF.head(10)"
   ]
  },
  {
   "cell_type": "code",
   "execution_count": 15,
   "metadata": {
    "collapsed": false
   },
   "outputs": [],
   "source": [
    "GenesisDF.to_csv(\"Visualize_Genesis.csv\")"
   ]
  },
  {
   "cell_type": "code",
   "execution_count": null,
   "metadata": {
    "collapsed": true
   },
   "outputs": [],
   "source": []
  }
 ],
 "metadata": {
  "kernelspec": {
   "display_name": "Python 2",
   "language": "python",
   "name": "python2"
  },
  "language_info": {
   "codemirror_mode": {
    "name": "ipython",
    "version": 2
   },
   "file_extension": ".py",
   "mimetype": "text/x-python",
   "name": "python",
   "nbconvert_exporter": "python",
   "pygments_lexer": "ipython2",
   "version": "2.7.10"
  }
 },
 "nbformat": 4,
 "nbformat_minor": 0
}
