{
 "cells": [
  {
   "cell_type": "code",
   "execution_count": 9,
   "metadata": {
    "collapsed": true
   },
   "outputs": [],
   "source": [
    "import requests\n",
    "import pandas as pd"
   ]
  },
  {
   "cell_type": "code",
   "execution_count": 139,
   "metadata": {
    "collapsed": true
   },
   "outputs": [],
   "source": [
    "r = requests.get('http://api.biblia.com/v1/bible/content/LEB.text?passage=Genesis1:1&style=bibleTextOnly&key=78107f435755fdf76ac5f8d991664d79')"
   ]
  },
  {
   "cell_type": "code",
   "execution_count": 140,
   "metadata": {
    "collapsed": false
   },
   "outputs": [],
   "source": [
    "Genesis1 = r.text"
   ]
  },
  {
   "cell_type": "code",
   "execution_count": 141,
   "metadata": {
    "collapsed": false
   },
   "outputs": [
    {
     "data": {
      "text/plain": [
       "u'In the beginning, God created the heavens and the earth\\u2014'"
      ]
     },
     "execution_count": 141,
     "metadata": {},
     "output_type": "execute_result"
    }
   ],
   "source": [
    "Genesis1"
   ]
  },
  {
   "cell_type": "code",
   "execution_count": 142,
   "metadata": {
    "collapsed": false
   },
   "outputs": [],
   "source": [
    "from spacy.en import English\n",
    "nlp = English()"
   ]
  },
  {
   "cell_type": "code",
   "execution_count": 143,
   "metadata": {
    "collapsed": false
   },
   "outputs": [],
   "source": [
    "doc = nlp(Genesis1)"
   ]
  },
  {
   "cell_type": "code",
   "execution_count": 145,
   "metadata": {
    "collapsed": false
   },
   "outputs": [],
   "source": [
    "WordsList = []\n",
    "for idx,token in enumerate(doc):\n",
    "    wordDict ={}\n",
    "    wordDict['part_of_speech']=token.pos_\n",
    "    wordDict['tag']=token.tag_\n",
    "    wordDict['token']=token\n",
    "    wordDict['entity_type']=token.ent_type_\n",
    "    wordDict['dependencies']=token.dep_\n",
    "    wordDict['lemma']=token.lemma_\n",
    "    WordsList.append(wordDict)"
   ]
  },
  {
   "cell_type": "code",
   "execution_count": 147,
   "metadata": {
    "collapsed": false
   },
   "outputs": [
    {
     "data": {
      "text/plain": [
       "[{'dependencies': u'prep',\n",
       "  'entity_type': u'',\n",
       "  'lemma': u'in',\n",
       "  'part_of_speech': u'ADP',\n",
       "  'tag': u'IN',\n",
       "  'token': In },\n",
       " {'dependencies': u'det',\n",
       "  'entity_type': u'',\n",
       "  'lemma': u'the',\n",
       "  'part_of_speech': u'DET',\n",
       "  'tag': u'DT',\n",
       "  'token': the },\n",
       " {'dependencies': u'pobj',\n",
       "  'entity_type': u'',\n",
       "  'lemma': u'beginning',\n",
       "  'part_of_speech': u'NOUN',\n",
       "  'tag': u'NN',\n",
       "  'token': beginning},\n",
       " {'dependencies': u'punct',\n",
       "  'entity_type': u'',\n",
       "  'lemma': u',',\n",
       "  'part_of_speech': u'PUNCT',\n",
       "  'tag': u',',\n",
       "  'token': , },\n",
       " {'dependencies': u'nsubj',\n",
       "  'entity_type': u'',\n",
       "  'lemma': u'god',\n",
       "  'part_of_speech': u'NOUN',\n",
       "  'tag': u'NNP',\n",
       "  'token': God },\n",
       " {'dependencies': u'ROOT',\n",
       "  'entity_type': u'',\n",
       "  'lemma': u'create',\n",
       "  'part_of_speech': u'VERB',\n",
       "  'tag': u'VBD',\n",
       "  'token': created },\n",
       " {'dependencies': u'det',\n",
       "  'entity_type': u'',\n",
       "  'lemma': u'the',\n",
       "  'part_of_speech': u'DET',\n",
       "  'tag': u'DT',\n",
       "  'token': the },\n",
       " {'dependencies': u'dobj',\n",
       "  'entity_type': u'',\n",
       "  'lemma': u'heaven',\n",
       "  'part_of_speech': u'NOUN',\n",
       "  'tag': u'NNS',\n",
       "  'token': heavens },\n",
       " {'dependencies': u'cc',\n",
       "  'entity_type': u'',\n",
       "  'lemma': u'and',\n",
       "  'part_of_speech': u'CONJ',\n",
       "  'tag': u'CC',\n",
       "  'token': and },\n",
       " {'dependencies': u'det',\n",
       "  'entity_type': u'',\n",
       "  'lemma': u'the',\n",
       "  'part_of_speech': u'DET',\n",
       "  'tag': u'DT',\n",
       "  'token': the },\n",
       " {'dependencies': u'conj',\n",
       "  'entity_type': u'',\n",
       "  'lemma': u'earth\\u2014',\n",
       "  'part_of_speech': u'NOUN',\n",
       "  'tag': u'NN',\n",
       "  'token': earth—}]"
      ]
     },
     "execution_count": 147,
     "metadata": {},
     "output_type": "execute_result"
    }
   ],
   "source": [
    "WordsList[0:]"
   ]
  },
  {
   "cell_type": "code",
   "execution_count": null,
   "metadata": {
    "collapsed": true
   },
   "outputs": [],
   "source": []
  }
 ],
 "metadata": {
  "kernelspec": {
   "display_name": "Python 3",
   "language": "python",
   "name": "python3"
  },
  "language_info": {
   "codemirror_mode": {
    "name": "ipython",
    "version": 3
   },
   "file_extension": ".py",
   "mimetype": "text/x-python",
   "name": "python",
   "nbconvert_exporter": "python",
   "pygments_lexer": "ipython3",
   "version": "3.4.4+"
  }
 },
 "nbformat": 4,
 "nbformat_minor": 0
}
