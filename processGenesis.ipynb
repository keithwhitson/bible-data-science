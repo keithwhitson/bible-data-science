{
 "cells": [
  {
   "cell_type": "code",
   "execution_count": 3,
   "metadata": {
    "collapsed": true
   },
   "outputs": [],
   "source": [
    "import pandas as pd\n",
    "GenesisDF = pd.read_excel(\"Bible.xlsx\",sheetname=\"Genesis\")"
   ]
  },
  {
   "cell_type": "code",
   "execution_count": 4,
   "metadata": {
    "collapsed": false
   },
   "outputs": [
    {
     "data": {
      "text/html": [
       "<div>\n",
       "<table border=\"1\" class=\"dataframe\">\n",
       "  <thead>\n",
       "    <tr style=\"text-align: right;\">\n",
       "      <th></th>\n",
       "      <th>Book Name</th>\n",
       "      <th>1</th>\n",
       "      <th>2</th>\n",
       "      <th>3</th>\n",
       "      <th>4</th>\n",
       "      <th>5</th>\n",
       "      <th>6</th>\n",
       "      <th>7</th>\n",
       "      <th>8</th>\n",
       "      <th>9</th>\n",
       "      <th>...</th>\n",
       "      <th>41</th>\n",
       "      <th>42</th>\n",
       "      <th>43</th>\n",
       "      <th>44</th>\n",
       "      <th>45</th>\n",
       "      <th>46</th>\n",
       "      <th>47</th>\n",
       "      <th>48</th>\n",
       "      <th>49</th>\n",
       "      <th>50</th>\n",
       "    </tr>\n",
       "  </thead>\n",
       "  <tbody>\n",
       "    <tr>\n",
       "      <th>0</th>\n",
       "      <td>Genesis</td>\n",
       "      <td>31</td>\n",
       "      <td>25</td>\n",
       "      <td>24</td>\n",
       "      <td>26</td>\n",
       "      <td>32</td>\n",
       "      <td>22</td>\n",
       "      <td>24</td>\n",
       "      <td>22</td>\n",
       "      <td>29</td>\n",
       "      <td>...</td>\n",
       "      <td>57</td>\n",
       "      <td>38</td>\n",
       "      <td>34</td>\n",
       "      <td>34</td>\n",
       "      <td>28</td>\n",
       "      <td>34</td>\n",
       "      <td>31</td>\n",
       "      <td>22</td>\n",
       "      <td>33</td>\n",
       "      <td>26</td>\n",
       "    </tr>\n",
       "  </tbody>\n",
       "</table>\n",
       "<p>1 rows × 51 columns</p>\n",
       "</div>"
      ],
      "text/plain": [
       "  Book Name   1   2   3   4   5   6   7   8   9 ...  41  42  43  44  45  46  \\\n",
       "0   Genesis  31  25  24  26  32  22  24  22  29 ...  57  38  34  34  28  34   \n",
       "\n",
       "   47  48  49  50  \n",
       "0  31  22  33  26  \n",
       "\n",
       "[1 rows x 51 columns]"
      ]
     },
     "execution_count": 4,
     "metadata": {},
     "output_type": "execute_result"
    }
   ],
   "source": [
    "GenesisDF"
   ]
  },
  {
   "cell_type": "code",
   "execution_count": 5,
   "metadata": {
    "collapsed": true
   },
   "outputs": [],
   "source": [
    "def ProcessGenesis(Book,Chapter,Verses):\n",
    "    for thisSet in range(1,Verses+1):\n",
    "        return Book+str(Chapter)+':'+str(thisSet)"
   ]
  },
  {
   "cell_type": "code",
   "execution_count": 11,
   "metadata": {
    "collapsed": false
   },
   "outputs": [],
   "source": [
    "genesisList = []\n",
    "for idx,element in enumerate(GenesisDF.values.tolist()[0]):\n",
    "    if str(element).isdigit():\n",
    "        genesisDict = {}\n",
    "        genesisDict['Chapter']=idx\n",
    "        genesisDict['Verses']=element\n",
    "        genesisDict['Passage']=ProcessGenesis('Genesis',genesisDict['Chapter'],genesisDict['Verses'])\n",
    "        genesisList.append(genesisDict)"
   ]
  },
  {
   "cell_type": "code",
   "execution_count": 12,
   "metadata": {
    "collapsed": false
   },
   "outputs": [
    {
     "data": {
      "text/plain": [
       "[{'Chapter': 1, 'Passage': 'Genesis1:1', 'Verses': 31},\n",
       " {'Chapter': 2, 'Passage': 'Genesis2:1', 'Verses': 25},\n",
       " {'Chapter': 3, 'Passage': 'Genesis3:1', 'Verses': 24},\n",
       " {'Chapter': 4, 'Passage': 'Genesis4:1', 'Verses': 26},\n",
       " {'Chapter': 5, 'Passage': 'Genesis5:1', 'Verses': 32},\n",
       " {'Chapter': 6, 'Passage': 'Genesis6:1', 'Verses': 22},\n",
       " {'Chapter': 7, 'Passage': 'Genesis7:1', 'Verses': 24},\n",
       " {'Chapter': 8, 'Passage': 'Genesis8:1', 'Verses': 22},\n",
       " {'Chapter': 9, 'Passage': 'Genesis9:1', 'Verses': 29},\n",
       " {'Chapter': 10, 'Passage': 'Genesis10:1', 'Verses': 32},\n",
       " {'Chapter': 11, 'Passage': 'Genesis11:1', 'Verses': 32},\n",
       " {'Chapter': 12, 'Passage': 'Genesis12:1', 'Verses': 20},\n",
       " {'Chapter': 13, 'Passage': 'Genesis13:1', 'Verses': 18},\n",
       " {'Chapter': 14, 'Passage': 'Genesis14:1', 'Verses': 24},\n",
       " {'Chapter': 15, 'Passage': 'Genesis15:1', 'Verses': 21},\n",
       " {'Chapter': 16, 'Passage': 'Genesis16:1', 'Verses': 16},\n",
       " {'Chapter': 17, 'Passage': 'Genesis17:1', 'Verses': 27},\n",
       " {'Chapter': 18, 'Passage': 'Genesis18:1', 'Verses': 33},\n",
       " {'Chapter': 19, 'Passage': 'Genesis19:1', 'Verses': 38},\n",
       " {'Chapter': 20, 'Passage': 'Genesis20:1', 'Verses': 18},\n",
       " {'Chapter': 21, 'Passage': 'Genesis21:1', 'Verses': 34},\n",
       " {'Chapter': 22, 'Passage': 'Genesis22:1', 'Verses': 24},\n",
       " {'Chapter': 23, 'Passage': 'Genesis23:1', 'Verses': 20},\n",
       " {'Chapter': 24, 'Passage': 'Genesis24:1', 'Verses': 67},\n",
       " {'Chapter': 25, 'Passage': 'Genesis25:1', 'Verses': 34},\n",
       " {'Chapter': 26, 'Passage': 'Genesis26:1', 'Verses': 35},\n",
       " {'Chapter': 27, 'Passage': 'Genesis27:1', 'Verses': 46},\n",
       " {'Chapter': 28, 'Passage': 'Genesis28:1', 'Verses': 22},\n",
       " {'Chapter': 29, 'Passage': 'Genesis29:1', 'Verses': 35},\n",
       " {'Chapter': 30, 'Passage': 'Genesis30:1', 'Verses': 43},\n",
       " {'Chapter': 31, 'Passage': 'Genesis31:1', 'Verses': 54},\n",
       " {'Chapter': 32, 'Passage': 'Genesis32:1', 'Verses': 33},\n",
       " {'Chapter': 33, 'Passage': 'Genesis33:1', 'Verses': 20},\n",
       " {'Chapter': 34, 'Passage': 'Genesis34:1', 'Verses': 31},\n",
       " {'Chapter': 35, 'Passage': 'Genesis35:1', 'Verses': 29},\n",
       " {'Chapter': 36, 'Passage': 'Genesis36:1', 'Verses': 43},\n",
       " {'Chapter': 37, 'Passage': 'Genesis37:1', 'Verses': 36},\n",
       " {'Chapter': 38, 'Passage': 'Genesis38:1', 'Verses': 30},\n",
       " {'Chapter': 39, 'Passage': 'Genesis39:1', 'Verses': 23},\n",
       " {'Chapter': 40, 'Passage': 'Genesis40:1', 'Verses': 23},\n",
       " {'Chapter': 41, 'Passage': 'Genesis41:1', 'Verses': 57},\n",
       " {'Chapter': 42, 'Passage': 'Genesis42:1', 'Verses': 38},\n",
       " {'Chapter': 43, 'Passage': 'Genesis43:1', 'Verses': 34},\n",
       " {'Chapter': 44, 'Passage': 'Genesis44:1', 'Verses': 34},\n",
       " {'Chapter': 45, 'Passage': 'Genesis45:1', 'Verses': 28},\n",
       " {'Chapter': 46, 'Passage': 'Genesis46:1', 'Verses': 34},\n",
       " {'Chapter': 47, 'Passage': 'Genesis47:1', 'Verses': 31},\n",
       " {'Chapter': 48, 'Passage': 'Genesis48:1', 'Verses': 22},\n",
       " {'Chapter': 49, 'Passage': 'Genesis49:1', 'Verses': 33},\n",
       " {'Chapter': 50, 'Passage': 'Genesis50:1', 'Verses': 26}]"
      ]
     },
     "execution_count": 12,
     "metadata": {},
     "output_type": "execute_result"
    }
   ],
   "source": [
    "genesisList"
   ]
  },
  {
   "cell_type": "code",
   "execution_count": null,
   "metadata": {
    "collapsed": true
   },
   "outputs": [],
   "source": []
  }
 ],
 "metadata": {
  "kernelspec": {
   "display_name": "Python 3",
   "language": "python",
   "name": "python3"
  },
  "language_info": {
   "codemirror_mode": {
    "name": "ipython",
    "version": 3
   },
   "file_extension": ".py",
   "mimetype": "text/x-python",
   "name": "python",
   "nbconvert_exporter": "python",
   "pygments_lexer": "ipython3",
   "version": "3.4.4+"
  }
 },
 "nbformat": 4,
 "nbformat_minor": 0
}
