{
 "metadata": {
  "name": "",
  "signature": "sha256:dd444e6178959b381c00a80e08d193a86e47e3a3c95744efd35fd2b5ae3354b8"
 },
 "nbformat": 3,
 "nbformat_minor": 0,
 "worksheets": [
  {
   "cells": [
    {
     "cell_type": "markdown",
     "metadata": {},
     "source": [
      "### Die Integration einer bestimmten Kategorien f\u00fchrt automatisch zu einem Uplift der \u00d6-Rate - \u00dcbermedian\n",
      "### Logistic Regression"
     ]
    },
    {
     "cell_type": "code",
     "collapsed": false,
     "input": [
      "import pandas as pd\n",
      "from pandas import DataFrame\n",
      "import statsmodels.api as sm\n",
      "import pylab as pl\n",
      "AuswertungExcel = pd.read_excel('Auswertung.xlsx')\n",
      "import numpy as np"
     ],
     "language": "python",
     "metadata": {},
     "outputs": [],
     "prompt_number": 1
    },
    {
     "cell_type": "code",
     "collapsed": false,
     "input": [
      "AuswertungExcel.columns"
     ],
     "language": "python",
     "metadata": {},
     "outputs": [
      {
       "metadata": {},
       "output_type": "pyout",
       "prompt_number": 2,
       "text": [
        "Index([u'overMedian', u'Oeffnungsrate', u'Betreff', u'Kategorie', u'incentive', u'highlight', u'partner', u'satzzeichen', u'anrede', u'Kategoriensumme', u'Kampagne', u'Datum', u'Partner_dm', u'Partner_ebay', u'Partner_Philips', u'Partner_WMF', u'Partner_a.t.u', u'Partner_aral', u'Partner_asstel', u'Partner_blume2000.de', u'Partner_c&a', u'Partner_dehner', u'Partner_expedia', u'Partner_express', u'Partner_galeria', u'Partner_hvb', u'Partner_itunes', u'Partner_linda', u'Partner_mexx', u'Partner_mydays', u'Partner_opel', u'Partner_quelle', u'Partner_real', u'Partner_rewe', u'Partner_sportarena.de', u'Partner_tchibo', u'Partner_telekom', u'Partner_yello', u'Partner_zalando', u'Satzzeiche_!', u'Satzzeiche_.', u'Satzzeiche_?', u'Anrede_anrede', u'Anrede_title', u'Angebot', u'Bestpreisgarantie', u'Exklusiv', u'Geschenk', u'Gewinn', u'Gratis', u'Highlight', u'Jetzt', u'Nur', u'Pr\u00e4mie', u'Punktestand', u'Rabatt', u'Reduziert', u'Sale', u'Schnell', u'Sichern', u'Sparen', u'Wichtig', u'WSV', u'W\u00fcnsche', u'Special', u'Incentivierung_%', u'Incentives_200 \u00b0p f\u00fcr sie geschenkt', u'Incentives_200 \u00b0p geschenkt', u'Incentivierung_doppelt punkten', u'Incentives_doppelte punkte', u'Incentives_extra \u00b0p', u'Incentivierung_extra-punkte', u'Incentivierung_fach', u'Incentives_punkte', u'Incentives_punkte-gutschein', u'Incentives_\u00b0p'], dtype='object')"
       ]
      }
     ],
     "prompt_number": 2
    },
    {
     "cell_type": "code",
     "collapsed": false,
     "input": [
      "BestimmteKategorie = DataFrame()"
     ],
     "language": "python",
     "metadata": {},
     "outputs": [],
     "prompt_number": 3
    },
    {
     "cell_type": "code",
     "collapsed": false,
     "input": [
      "BestimmteKategorie['overMedian']=AuswertungExcel['overMedian']\n",
      "BestimmteKategorie['incentive']=AuswertungExcel['incentive']\n",
      "BestimmteKategorie['partner']=AuswertungExcel['partner']\n",
      "BestimmteKategorie['satzzeichen']=AuswertungExcel['satzzeichen']\n",
      "BestimmteKategorie['anrede']=AuswertungExcel['anrede']\n",
      "BestimmteKategorie['highlight']=AuswertungExcel['highlight']\n",
      "BestimmteKategorie['Betreff']=AuswertungExcel['Betreff']"
     ],
     "language": "python",
     "metadata": {},
     "outputs": [],
     "prompt_number": 4
    },
    {
     "cell_type": "code",
     "collapsed": false,
     "input": [
      "BestimmteKategorie.head()"
     ],
     "language": "python",
     "metadata": {},
     "outputs": [
      {
       "html": [
        "<div style=\"max-height:1000px;max-width:1500px;overflow:auto;\">\n",
        "<table border=\"1\" class=\"dataframe\">\n",
        "  <thead>\n",
        "    <tr style=\"text-align: right;\">\n",
        "      <th></th>\n",
        "      <th>overMedian</th>\n",
        "      <th>incentive</th>\n",
        "      <th>partner</th>\n",
        "      <th>satzzeichen</th>\n",
        "      <th>anrede</th>\n",
        "      <th>highlight</th>\n",
        "      <th>Betreff</th>\n",
        "    </tr>\n",
        "  </thead>\n",
        "  <tbody>\n",
        "    <tr>\n",
        "      <th>0</th>\n",
        "      <td> 1</td>\n",
        "      <td> 0</td>\n",
        "      <td> 1</td>\n",
        "      <td> 1</td>\n",
        "      <td> 0</td>\n",
        "      <td> 1</td>\n",
        "      <td> jetzt dm payback mini-karte sichern &amp; noch meh...</td>\n",
        "    </tr>\n",
        "    <tr>\n",
        "      <th>1</th>\n",
        "      <td> 1</td>\n",
        "      <td> 1</td>\n",
        "      <td> 1</td>\n",
        "      <td> 0</td>\n",
        "      <td> 0</td>\n",
        "      <td> 1</td>\n",
        "      <td> punkten sie jetzt gepflegt bei dm mit vielen e...</td>\n",
        "    </tr>\n",
        "    <tr>\n",
        "      <th>2</th>\n",
        "      <td> 0</td>\n",
        "      <td> 1</td>\n",
        "      <td> 0</td>\n",
        "      <td> 0</td>\n",
        "      <td> 0</td>\n",
        "      <td> 0</td>\n",
        "      <td>                 24fach punkte mit maybelline jade</td>\n",
        "    </tr>\n",
        "    <tr>\n",
        "      <th>3</th>\n",
        "      <td> 0</td>\n",
        "      <td> 1</td>\n",
        "      <td> 0</td>\n",
        "      <td> 1</td>\n",
        "      <td> 0</td>\n",
        "      <td> 1</td>\n",
        "      <td> 3.000  nur bis 28.02.2013 + immer doppelt punk...</td>\n",
        "    </tr>\n",
        "    <tr>\n",
        "      <th>4</th>\n",
        "      <td> 0</td>\n",
        "      <td> 1</td>\n",
        "      <td> 0</td>\n",
        "      <td> 1</td>\n",
        "      <td> 0</td>\n",
        "      <td> 1</td>\n",
        "      <td>             jetzt 20fach punkte mit garnier olia!</td>\n",
        "    </tr>\n",
        "  </tbody>\n",
        "</table>\n",
        "</div>"
       ],
       "metadata": {},
       "output_type": "pyout",
       "prompt_number": 5,
       "text": [
        "   overMedian  incentive  partner  satzzeichen  anrede  highlight  \\\n",
        "0           1          0        1            1       0          1   \n",
        "1           1          1        1            0       0          1   \n",
        "2           0          1        0            0       0          0   \n",
        "3           0          1        0            1       0          1   \n",
        "4           0          1        0            1       0          1   \n",
        "\n",
        "                                             Betreff  \n",
        "0  jetzt dm payback mini-karte sichern & noch meh...  \n",
        "1  punkten sie jetzt gepflegt bei dm mit vielen e...  \n",
        "2                  24fach punkte mit maybelline jade  \n",
        "3  3.000  nur bis 28.02.2013 + immer doppelt punk...  \n",
        "4              jetzt 20fach punkte mit garnier olia!  "
       ]
      }
     ],
     "prompt_number": 5
    },
    {
     "cell_type": "code",
     "collapsed": false,
     "input": [
      "BestimmteKategorie.describe()"
     ],
     "language": "python",
     "metadata": {},
     "outputs": [
      {
       "html": [
        "<div style=\"max-height:1000px;max-width:1500px;overflow:auto;\">\n",
        "<table border=\"1\" class=\"dataframe\">\n",
        "  <thead>\n",
        "    <tr style=\"text-align: right;\">\n",
        "      <th></th>\n",
        "      <th>overMedian</th>\n",
        "      <th>incentive</th>\n",
        "      <th>partner</th>\n",
        "      <th>satzzeichen</th>\n",
        "      <th>anrede</th>\n",
        "      <th>highlight</th>\n",
        "    </tr>\n",
        "  </thead>\n",
        "  <tbody>\n",
        "    <tr>\n",
        "      <th>count</th>\n",
        "      <td> 389.000000</td>\n",
        "      <td> 389.000000</td>\n",
        "      <td> 389.000000</td>\n",
        "      <td> 389.000000</td>\n",
        "      <td> 389.000000</td>\n",
        "      <td> 389.000000</td>\n",
        "    </tr>\n",
        "    <tr>\n",
        "      <th>mean</th>\n",
        "      <td>   0.498715</td>\n",
        "      <td>   0.727506</td>\n",
        "      <td>   0.390746</td>\n",
        "      <td>   0.316195</td>\n",
        "      <td>   0.125964</td>\n",
        "      <td>   0.565553</td>\n",
        "    </tr>\n",
        "    <tr>\n",
        "      <th>std</th>\n",
        "      <td>   0.500642</td>\n",
        "      <td>   0.445816</td>\n",
        "      <td>   0.488546</td>\n",
        "      <td>   0.465589</td>\n",
        "      <td>   0.332236</td>\n",
        "      <td>   0.496323</td>\n",
        "    </tr>\n",
        "    <tr>\n",
        "      <th>min</th>\n",
        "      <td>   0.000000</td>\n",
        "      <td>   0.000000</td>\n",
        "      <td>   0.000000</td>\n",
        "      <td>   0.000000</td>\n",
        "      <td>   0.000000</td>\n",
        "      <td>   0.000000</td>\n",
        "    </tr>\n",
        "    <tr>\n",
        "      <th>25%</th>\n",
        "      <td>   0.000000</td>\n",
        "      <td>   0.000000</td>\n",
        "      <td>   0.000000</td>\n",
        "      <td>   0.000000</td>\n",
        "      <td>   0.000000</td>\n",
        "      <td>   0.000000</td>\n",
        "    </tr>\n",
        "    <tr>\n",
        "      <th>50%</th>\n",
        "      <td>   0.000000</td>\n",
        "      <td>   1.000000</td>\n",
        "      <td>   0.000000</td>\n",
        "      <td>   0.000000</td>\n",
        "      <td>   0.000000</td>\n",
        "      <td>   1.000000</td>\n",
        "    </tr>\n",
        "    <tr>\n",
        "      <th>75%</th>\n",
        "      <td>   1.000000</td>\n",
        "      <td>   1.000000</td>\n",
        "      <td>   1.000000</td>\n",
        "      <td>   1.000000</td>\n",
        "      <td>   0.000000</td>\n",
        "      <td>   1.000000</td>\n",
        "    </tr>\n",
        "    <tr>\n",
        "      <th>max</th>\n",
        "      <td>   1.000000</td>\n",
        "      <td>   1.000000</td>\n",
        "      <td>   1.000000</td>\n",
        "      <td>   1.000000</td>\n",
        "      <td>   1.000000</td>\n",
        "      <td>   1.000000</td>\n",
        "    </tr>\n",
        "  </tbody>\n",
        "</table>\n",
        "</div>"
       ],
       "metadata": {},
       "output_type": "pyout",
       "prompt_number": 6,
       "text": [
        "       overMedian   incentive     partner  satzzeichen      anrede   highlight\n",
        "count  389.000000  389.000000  389.000000   389.000000  389.000000  389.000000\n",
        "mean     0.498715    0.727506    0.390746     0.316195    0.125964    0.565553\n",
        "std      0.500642    0.445816    0.488546     0.465589    0.332236    0.496323\n",
        "min      0.000000    0.000000    0.000000     0.000000    0.000000    0.000000\n",
        "25%      0.000000    0.000000    0.000000     0.000000    0.000000    0.000000\n",
        "50%      0.000000    1.000000    0.000000     0.000000    0.000000    1.000000\n",
        "75%      1.000000    1.000000    1.000000     1.000000    0.000000    1.000000\n",
        "max      1.000000    1.000000    1.000000     1.000000    1.000000    1.000000"
       ]
      }
     ],
     "prompt_number": 6
    },
    {
     "cell_type": "code",
     "collapsed": false,
     "input": [
      "BestimmteKategorie.corr()"
     ],
     "language": "python",
     "metadata": {},
     "outputs": [
      {
       "html": [
        "<div style=\"max-height:1000px;max-width:1500px;overflow:auto;\">\n",
        "<table border=\"1\" class=\"dataframe\">\n",
        "  <thead>\n",
        "    <tr style=\"text-align: right;\">\n",
        "      <th></th>\n",
        "      <th>overMedian</th>\n",
        "      <th>incentive</th>\n",
        "      <th>partner</th>\n",
        "      <th>satzzeichen</th>\n",
        "      <th>anrede</th>\n",
        "      <th>highlight</th>\n",
        "    </tr>\n",
        "  </thead>\n",
        "  <tbody>\n",
        "    <tr>\n",
        "      <th>overMedian</th>\n",
        "      <td> 1.000000</td>\n",
        "      <td>-0.186332</td>\n",
        "      <td> 0.054746</td>\n",
        "      <td> 0.162075</td>\n",
        "      <td> 0.132684</td>\n",
        "      <td> 0.023678</td>\n",
        "    </tr>\n",
        "    <tr>\n",
        "      <th>incentive</th>\n",
        "      <td>-0.186332</td>\n",
        "      <td> 1.000000</td>\n",
        "      <td> 0.040458</td>\n",
        "      <td>-0.241920</td>\n",
        "      <td>-0.202680</td>\n",
        "      <td>-0.117078</td>\n",
        "    </tr>\n",
        "    <tr>\n",
        "      <th>partner</th>\n",
        "      <td> 0.054746</td>\n",
        "      <td> 0.040458</td>\n",
        "      <td> 1.000000</td>\n",
        "      <td>-0.136669</td>\n",
        "      <td>-0.065842</td>\n",
        "      <td> 0.074787</td>\n",
        "    </tr>\n",
        "    <tr>\n",
        "      <th>satzzeichen</th>\n",
        "      <td> 0.162075</td>\n",
        "      <td>-0.241920</td>\n",
        "      <td>-0.136669</td>\n",
        "      <td> 1.000000</td>\n",
        "      <td> 0.075085</td>\n",
        "      <td> 0.094100</td>\n",
        "    </tr>\n",
        "    <tr>\n",
        "      <th>anrede</th>\n",
        "      <td> 0.132684</td>\n",
        "      <td>-0.202680</td>\n",
        "      <td>-0.065842</td>\n",
        "      <td> 0.075085</td>\n",
        "      <td> 1.000000</td>\n",
        "      <td>-0.089280</td>\n",
        "    </tr>\n",
        "    <tr>\n",
        "      <th>highlight</th>\n",
        "      <td> 0.023678</td>\n",
        "      <td>-0.117078</td>\n",
        "      <td> 0.074787</td>\n",
        "      <td> 0.094100</td>\n",
        "      <td>-0.089280</td>\n",
        "      <td> 1.000000</td>\n",
        "    </tr>\n",
        "  </tbody>\n",
        "</table>\n",
        "</div>"
       ],
       "metadata": {},
       "output_type": "pyout",
       "prompt_number": 7,
       "text": [
        "             overMedian  incentive   partner  satzzeichen    anrede  highlight\n",
        "overMedian     1.000000  -0.186332  0.054746     0.162075  0.132684   0.023678\n",
        "incentive     -0.186332   1.000000  0.040458    -0.241920 -0.202680  -0.117078\n",
        "partner        0.054746   0.040458  1.000000    -0.136669 -0.065842   0.074787\n",
        "satzzeichen    0.162075  -0.241920 -0.136669     1.000000  0.075085   0.094100\n",
        "anrede         0.132684  -0.202680 -0.065842     0.075085  1.000000  -0.089280\n",
        "highlight      0.023678  -0.117078  0.074787     0.094100 -0.089280   1.000000"
       ]
      }
     ],
     "prompt_number": 7
    },
    {
     "cell_type": "code",
     "collapsed": false,
     "input": [
      "BestimmteKategorie.std()"
     ],
     "language": "python",
     "metadata": {},
     "outputs": [
      {
       "metadata": {},
       "output_type": "pyout",
       "prompt_number": 8,
       "text": [
        "overMedian     0.500642\n",
        "incentive      0.445816\n",
        "partner        0.488546\n",
        "satzzeichen    0.465589\n",
        "anrede         0.332236\n",
        "highlight      0.496323\n",
        "dtype: float64"
       ]
      }
     ],
     "prompt_number": 8
    },
    {
     "cell_type": "code",
     "collapsed": false,
     "input": [
      "pd.crosstab(BestimmteKategorie['overMedian'],BestimmteKategorie['partner'])\n",
      "# partner erste Zahl"
     ],
     "language": "python",
     "metadata": {},
     "outputs": [
      {
       "html": [
        "<div style=\"max-height:1000px;max-width:1500px;overflow:auto;\">\n",
        "<table border=\"1\" class=\"dataframe\">\n",
        "  <thead>\n",
        "    <tr style=\"text-align: right;\">\n",
        "      <th>partner</th>\n",
        "      <th>0</th>\n",
        "      <th>1</th>\n",
        "    </tr>\n",
        "    <tr>\n",
        "      <th>overMedian</th>\n",
        "      <th></th>\n",
        "      <th></th>\n",
        "    </tr>\n",
        "  </thead>\n",
        "  <tbody>\n",
        "    <tr>\n",
        "      <th>0</th>\n",
        "      <td> 124</td>\n",
        "      <td> 71</td>\n",
        "    </tr>\n",
        "    <tr>\n",
        "      <th>1</th>\n",
        "      <td> 113</td>\n",
        "      <td> 81</td>\n",
        "    </tr>\n",
        "  </tbody>\n",
        "</table>\n",
        "</div>"
       ],
       "metadata": {},
       "output_type": "pyout",
       "prompt_number": 9,
       "text": [
        "partner       0   1\n",
        "overMedian         \n",
        "0           124  71\n",
        "1           113  81"
       ]
      }
     ],
     "prompt_number": 9
    },
    {
     "cell_type": "code",
     "collapsed": false,
     "input": [
      "pd.crosstab(BestimmteKategorie['overMedian'],BestimmteKategorie['incentive'])\n",
      "# incentive erste Zahl"
     ],
     "language": "python",
     "metadata": {},
     "outputs": [
      {
       "html": [
        "<div style=\"max-height:1000px;max-width:1500px;overflow:auto;\">\n",
        "<table border=\"1\" class=\"dataframe\">\n",
        "  <thead>\n",
        "    <tr style=\"text-align: right;\">\n",
        "      <th>incentive</th>\n",
        "      <th>0</th>\n",
        "      <th>1</th>\n",
        "    </tr>\n",
        "    <tr>\n",
        "      <th>overMedian</th>\n",
        "      <th></th>\n",
        "      <th></th>\n",
        "    </tr>\n",
        "  </thead>\n",
        "  <tbody>\n",
        "    <tr>\n",
        "      <th>0</th>\n",
        "      <td> 37</td>\n",
        "      <td> 158</td>\n",
        "    </tr>\n",
        "    <tr>\n",
        "      <th>1</th>\n",
        "      <td> 69</td>\n",
        "      <td> 125</td>\n",
        "    </tr>\n",
        "  </tbody>\n",
        "</table>\n",
        "</div>"
       ],
       "metadata": {},
       "output_type": "pyout",
       "prompt_number": 10,
       "text": [
        "incentive    0    1\n",
        "overMedian         \n",
        "0           37  158\n",
        "1           69  125"
       ]
      }
     ],
     "prompt_number": 10
    },
    {
     "cell_type": "code",
     "collapsed": false,
     "input": [
      "pd.crosstab(BestimmteKategorie['overMedian'],BestimmteKategorie['satzzeichen'])\n",
      "# satztzeichen erste Zahl"
     ],
     "language": "python",
     "metadata": {},
     "outputs": [
      {
       "html": [
        "<div style=\"max-height:1000px;max-width:1500px;overflow:auto;\">\n",
        "<table border=\"1\" class=\"dataframe\">\n",
        "  <thead>\n",
        "    <tr style=\"text-align: right;\">\n",
        "      <th>satzzeichen</th>\n",
        "      <th>0</th>\n",
        "      <th>1</th>\n",
        "    </tr>\n",
        "    <tr>\n",
        "      <th>overMedian</th>\n",
        "      <th></th>\n",
        "      <th></th>\n",
        "    </tr>\n",
        "  </thead>\n",
        "  <tbody>\n",
        "    <tr>\n",
        "      <th>0</th>\n",
        "      <td> 148</td>\n",
        "      <td> 47</td>\n",
        "    </tr>\n",
        "    <tr>\n",
        "      <th>1</th>\n",
        "      <td> 118</td>\n",
        "      <td> 76</td>\n",
        "    </tr>\n",
        "  </tbody>\n",
        "</table>\n",
        "</div>"
       ],
       "metadata": {},
       "output_type": "pyout",
       "prompt_number": 11,
       "text": [
        "satzzeichen    0   1\n",
        "overMedian          \n",
        "0            148  47\n",
        "1            118  76"
       ]
      }
     ],
     "prompt_number": 11
    },
    {
     "cell_type": "code",
     "collapsed": false,
     "input": [
      "pd.crosstab(BestimmteKategorie['overMedian'],BestimmteKategorie['anrede'])\n",
      "# anrede erste Zahl"
     ],
     "language": "python",
     "metadata": {},
     "outputs": [
      {
       "html": [
        "<div style=\"max-height:1000px;max-width:1500px;overflow:auto;\">\n",
        "<table border=\"1\" class=\"dataframe\">\n",
        "  <thead>\n",
        "    <tr style=\"text-align: right;\">\n",
        "      <th>anrede</th>\n",
        "      <th>0</th>\n",
        "      <th>1</th>\n",
        "    </tr>\n",
        "    <tr>\n",
        "      <th>overMedian</th>\n",
        "      <th></th>\n",
        "      <th></th>\n",
        "    </tr>\n",
        "  </thead>\n",
        "  <tbody>\n",
        "    <tr>\n",
        "      <th>0</th>\n",
        "      <td> 179</td>\n",
        "      <td> 16</td>\n",
        "    </tr>\n",
        "    <tr>\n",
        "      <th>1</th>\n",
        "      <td> 161</td>\n",
        "      <td> 33</td>\n",
        "    </tr>\n",
        "  </tbody>\n",
        "</table>\n",
        "</div>"
       ],
       "metadata": {},
       "output_type": "pyout",
       "prompt_number": 12,
       "text": [
        "anrede        0   1\n",
        "overMedian         \n",
        "0           179  16\n",
        "1           161  33"
       ]
      }
     ],
     "prompt_number": 12
    },
    {
     "cell_type": "code",
     "collapsed": false,
     "input": [
      "pd.crosstab(BestimmteKategorie['overMedian'],BestimmteKategorie['highlight'])\n",
      "# highlight erste Zahl"
     ],
     "language": "python",
     "metadata": {},
     "outputs": [
      {
       "html": [
        "<div style=\"max-height:1000px;max-width:1500px;overflow:auto;\">\n",
        "<table border=\"1\" class=\"dataframe\">\n",
        "  <thead>\n",
        "    <tr style=\"text-align: right;\">\n",
        "      <th>highlight</th>\n",
        "      <th>0</th>\n",
        "      <th>1</th>\n",
        "    </tr>\n",
        "    <tr>\n",
        "      <th>overMedian</th>\n",
        "      <th></th>\n",
        "      <th></th>\n",
        "    </tr>\n",
        "  </thead>\n",
        "  <tbody>\n",
        "    <tr>\n",
        "      <th>0</th>\n",
        "      <td> 87</td>\n",
        "      <td> 108</td>\n",
        "    </tr>\n",
        "    <tr>\n",
        "      <th>1</th>\n",
        "      <td> 82</td>\n",
        "      <td> 112</td>\n",
        "    </tr>\n",
        "  </tbody>\n",
        "</table>\n",
        "</div>"
       ],
       "metadata": {},
       "output_type": "pyout",
       "prompt_number": 13,
       "text": [
        "highlight    0    1\n",
        "overMedian         \n",
        "0           87  108\n",
        "1           82  112"
       ]
      }
     ],
     "prompt_number": 13
    },
    {
     "cell_type": "code",
     "collapsed": false,
     "input": [
      "BestimmteKategorie.hist()\n",
      "pl.show()"
     ],
     "language": "python",
     "metadata": {},
     "outputs": [
      {
       "metadata": {},
       "output_type": "display_data",
       "png": "[encoded data removed]",
       "text": [
        "<matplotlib.figure.Figure at 0xa477320>"
       ]
      }
     ],
     "prompt_number": 14
    },
    {
     "cell_type": "code",
     "collapsed": false,
     "input": [
      "Y_Overmedian = BestimmteKategorie['overMedian']"
     ],
     "language": "python",
     "metadata": {},
     "outputs": [],
     "prompt_number": 15
    },
    {
     "cell_type": "code",
     "collapsed": false,
     "input": [
      "BestimmteKategorie.columns"
     ],
     "language": "python",
     "metadata": {},
     "outputs": [
      {
       "metadata": {},
       "output_type": "pyout",
       "prompt_number": 16,
       "text": [
        "Index([u'overMedian', u'incentive', u'partner', u'satzzeichen', u'anrede', u'highlight', u'Betreff'], dtype='object')"
       ]
      }
     ],
     "prompt_number": 16
    },
    {
     "cell_type": "code",
     "collapsed": false,
     "input": [
      "X_Kategorien  = BestimmteKategorie[[u'incentive', u'partner', u'satzzeichen', u'anrede', u'highlight']]\n",
      "#X_Kategorien = sm.add_constant(X_Kategorien)\n",
      "#def setIntercept(data):\n",
      " #   return float(1.0)\n",
      "#X_Kategorien['intercept']=map(setIntercept,BestimmteKategorie['overMedian'])"
     ],
     "language": "python",
     "metadata": {},
     "outputs": [],
     "prompt_number": 17
    },
    {
     "cell_type": "code",
     "collapsed": false,
     "input": [
      "X_Kategorien_Train = X_Kategorien[:len(X_Kategorien)/2]"
     ],
     "language": "python",
     "metadata": {},
     "outputs": [],
     "prompt_number": 18
    },
    {
     "cell_type": "code",
     "collapsed": false,
     "input": [
      "Y_Overmedian_Train = Y_Overmedian[:len(Y_Overmedian)/2]"
     ],
     "language": "python",
     "metadata": {},
     "outputs": [],
     "prompt_number": 19
    },
    {
     "cell_type": "code",
     "collapsed": false,
     "input": [
      "logit = sm.Logit(Y_Overmedian_Train,X_Kategorien_Train)"
     ],
     "language": "python",
     "metadata": {},
     "outputs": [],
     "prompt_number": 20
    },
    {
     "cell_type": "code",
     "collapsed": false,
     "input": [
      "result = logit.fit()"
     ],
     "language": "python",
     "metadata": {},
     "outputs": [
      {
       "output_type": "stream",
       "stream": "stdout",
       "text": [
        "Optimization terminated successfully.\n",
        "         Current function value: 0.663601\n",
        "         Iterations 5\n"
       ]
      }
     ],
     "prompt_number": 21
    },
    {
     "cell_type": "code",
     "collapsed": false,
     "input": [
      "print result.summary()"
     ],
     "language": "python",
     "metadata": {},
     "outputs": [
      {
       "output_type": "stream",
       "stream": "stdout",
       "text": [
        "                           Logit Regression Results                           \n",
        "==============================================================================\n",
        "Dep. Variable:             overMedian   No. Observations:                  194\n",
        "Model:                          Logit   Df Residuals:                      189\n",
        "Method:                           MLE   Df Model:                            4\n",
        "Date:                Fri, 22 May 2015   Pseudo R-squ.:                 0.03364\n",
        "Time:                        16:21:39   Log-Likelihood:                -128.74\n",
        "converged:                       True   LL-Null:                       -133.22\n",
        "                                        LLR p-value:                   0.06202\n",
        "===============================================================================\n",
        "                  coef    std err          z      P>|z|      [95.0% Conf. Int.]\n",
        "-------------------------------------------------------------------------------\n",
        "incentive      -0.2779      0.239     -1.165      0.244        -0.745     0.190\n",
        "partner         0.6460      0.304      2.122      0.034         0.049     1.243\n",
        "satzzeichen     0.6718      0.302      2.226      0.026         0.080     1.263\n",
        "anrede          0.1805      0.460      0.392      0.695        -0.722     1.082\n",
        "highlight      -0.1074      0.274     -0.391      0.696        -0.645     0.430\n",
        "===============================================================================\n"
       ]
      }
     ],
     "prompt_number": 22
    },
    {
     "cell_type": "code",
     "collapsed": false,
     "input": [
      "print result.conf_int()"
     ],
     "language": "python",
     "metadata": {},
     "outputs": [
      {
       "output_type": "stream",
       "stream": "stdout",
       "text": [
        "                    0         1\n",
        "incentive   -0.745416  0.189544\n",
        "partner      0.049375  1.242672\n",
        "satzzeichen  0.080199  1.263379\n",
        "anrede      -0.721575  1.082498\n",
        "highlight   -0.645111  0.430395\n"
       ]
      }
     ],
     "prompt_number": 23
    },
    {
     "cell_type": "code",
     "collapsed": false,
     "input": [
      "print result.conf_int()"
     ],
     "language": "python",
     "metadata": {},
     "outputs": [
      {
       "output_type": "stream",
       "stream": "stdout",
       "text": [
        "                    0         1\n",
        "incentive   -0.745416  0.189544\n",
        "partner      0.049375  1.242672\n",
        "satzzeichen  0.080199  1.263379\n",
        "anrede      -0.721575  1.082498\n",
        "highlight   -0.645111  0.430395\n"
       ]
      }
     ],
     "prompt_number": 24
    },
    {
     "cell_type": "code",
     "collapsed": false,
     "input": [
      "print np.exp(result.params)"
     ],
     "language": "python",
     "metadata": {},
     "outputs": [
      {
       "output_type": "stream",
       "stream": "stdout",
       "text": [
        "incentive      0.757345\n",
        "partner        1.907939\n",
        "satzzeichen    1.957736\n",
        "anrede         1.197770\n",
        "highlight      0.898204\n",
        "dtype: float64\n"
       ]
      }
     ],
     "prompt_number": 25
    },
    {
     "cell_type": "code",
     "collapsed": false,
     "input": [
      "params = result.params\n",
      "conf = result.conf_int()\n",
      "conf['OR'] = params\n",
      "conf.columns = ['2.5%','97.5%','OR']\n",
      "print np.exp(conf)"
     ],
     "language": "python",
     "metadata": {},
     "outputs": [
      {
       "output_type": "stream",
       "stream": "stdout",
       "text": [
        "                 2.5%     97.5%        OR\n",
        "incentive    0.474537  1.208699  0.757345\n",
        "partner      1.050615  3.464859  1.907939\n",
        "satzzeichen  1.083502  3.537354  1.957736\n",
        "anrede       0.485986  2.952044  1.197770\n",
        "highlight    0.524605  1.537864  0.898204\n"
       ]
      }
     ],
     "prompt_number": 26
    },
    {
     "cell_type": "markdown",
     "metadata": {},
     "source": [
      "## sieht nicht gut aus"
     ]
    },
    {
     "cell_type": "markdown",
     "metadata": {},
     "source": [
      "#####Die Integration einer bestimmten Kategorien f\u00fchrt nicht automatisch zu einem Uplift der \u00d6-Rate (R2 ist nicht signifikant)"
     ]
    },
    {
     "cell_type": "code",
     "collapsed": false,
     "input": [],
     "language": "python",
     "metadata": {},
     "outputs": [],
     "prompt_number": 26
    },
    {
     "cell_type": "code",
     "collapsed": false,
     "input": [],
     "language": "python",
     "metadata": {},
     "outputs": [],
     "prompt_number": 26
    },
    {
     "cell_type": "code",
     "collapsed": false,
     "input": [],
     "language": "python",
     "metadata": {},
     "outputs": [],
     "prompt_number": 26
    },
    {
     "cell_type": "code",
     "collapsed": false,
     "input": [],
     "language": "python",
     "metadata": {},
     "outputs": [],
     "prompt_number": 26
    },
    {
     "cell_type": "code",
     "collapsed": false,
     "input": [],
     "language": "python",
     "metadata": {},
     "outputs": [],
     "prompt_number": 26
    }
   ],
   "metadata": {}
  }
 ]
}